{
 "cells": [
  {
   "cell_type": "markdown",
   "metadata": {},
   "source": [
    "# ANT61 Internship - Work Shop 1 Research and References"
   ]
  },
  {
   "cell_type": "markdown",
   "metadata": {},
   "source": [
    "### Algorithms\n",
    "- Task 1\n",
    "- Task 2\n",
    "  -  [Check for Balanced Brackets in an expression (well-formedness) using Stack](https://www.geeksforgeeks.org/check-for-balanced-parentheses-in-an-expression/)"
   ]
  },
  {
   "cell_type": "markdown",
   "metadata": {},
   "source": [
    "### Matrices\n",
    "\n",
    "- [numpy.median](https://numpy.org/doc/stable/reference/generated/numpy.median.html)\n",
    "- [numpy.sum (Examples)](https://pythonguides.com/python-numpy-sum/)\n",
    "- [numpy.amax (Examples)](https://thispointer.com/find-max-value-its-index-in-numpy-array-numpy-amax/)\n",
    "- [Rotate a matrix by 90 degrees in clockwise direction without using any extra space - GeeksforGeeks](https://www.geeksforgeeks.org/rotate-a-matrix-by-90-degree-in-clockwise-direction-without-using-any-extra-space/)\n",
    "- [Antialiasing - techopedia](https://www.techopedia.com/definition/1950/antialiasing#:~:text=Antialiasing%20is%20a%20technique%20used,that%20should%20otherwise%20be%20smooth.)\n",
    "- [Anti-Aliasing: Everything You Need to Know - hp](https://www.hp.com/us-en/shop/tech-takes/what-is-anti-aliasing)"
   ]
  },
  {
   "cell_type": "markdown",
   "metadata": {},
   "source": [
    "### Bonus Questions\n",
    "- [Find square root of number upto given precision using binary search](https://www.geeksforgeeks.org/find-square-root-number-upto-given-precision-using-binary-search/)"
   ]
  }
 ],
 "metadata": {
  "language_info": {
   "name": "python"
  },
  "orig_nbformat": 4
 },
 "nbformat": 4,
 "nbformat_minor": 2
}
