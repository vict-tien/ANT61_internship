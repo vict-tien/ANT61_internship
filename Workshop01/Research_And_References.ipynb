{
 "cells": [
  {
   "cell_type": "markdown",
   "metadata": {},
   "source": [
    "# ANT61 Internship - Work Shop 1 Research and References"
   ]
  },
  {
   "cell_type": "markdown",
   "metadata": {},
   "source": [
    "### Algorithms"
   ]
  },
  {
   "cell_type": "markdown",
   "metadata": {},
   "source": [
    "#### Task 1"
   ]
  },
  {
   "cell_type": "markdown",
   "metadata": {},
   "source": [
    "#### Task 2"
   ]
  },
  {
   "cell_type": "markdown",
   "metadata": {},
   "source": [
    "- [Check for Balanced Brackets in an expression (well-formedness) using Stack](https://www.geeksforgeeks.org/check-for-balanced-parentheses-in-an-expression/)"
   ]
  },
  {
   "cell_type": "markdown",
   "metadata": {},
   "source": [
    "### Matrices\n",
    "\n",
    "- [numpy.median](https://numpy.org/doc/stable/reference/generated/numpy.median.html)\n",
    "- [numpy.sum (Examples)](https://pythonguides.com/python-numpy-sum/)\n",
    "- [numpy.amax (Examples)](https://thispointer.com/find-max-value-its-index-in-numpy-array-numpy-amax/)"
   ]
  }
 ],
 "metadata": {
  "language_info": {
   "name": "python"
  },
  "orig_nbformat": 4
 },
 "nbformat": 4,
 "nbformat_minor": 2
}
