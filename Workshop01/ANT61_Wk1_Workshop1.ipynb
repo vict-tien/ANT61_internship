{
 "cells": [
  {
   "cell_type": "markdown",
   "metadata": {},
   "source": [
    "# ANT61 Internship - Work Shop 1 Tasks"
   ]
  },
  {
   "cell_type": "markdown",
   "metadata": {},
   "source": [
    "### Algorithms"
   ]
  },
  {
   "cell_type": "markdown",
   "metadata": {},
   "source": [
    "1. Implement a stack with operations Push, Pop, Max, where each operation takes constant time to complete: O(c)"
   ]
  },
  {
   "cell_type": "code",
   "execution_count": 8,
   "metadata": {},
   "outputs": [],
   "source": [
    "## Implement a node class for each node within the stack\n",
    "## Assumption: As required to find the local maximum of the stack, we assume \n",
    "\n",
    "class Node:\n",
    "    def __init__(self, value: float, localMax: float):\n",
    "        self.value = value\n",
    "        self.localMax = localMax\n",
    "        self.next = None\n",
    "\n",
    "    def getLocalMax(self) -> float:\n",
    "        return self.localMax\n",
    "\n",
    "    def getValue(self) -> float:\n",
    "        return self.value\n",
    "    \n",
    "    def getNext(self):\n",
    "        return self.next\n",
    "    \n",
    "    def setNext(self, nextNode):\n",
    "        self.next = nextNode\n"
   ]
  },
  {
   "cell_type": "code",
   "execution_count": 9,
   "metadata": {},
   "outputs": [],
   "source": [
    "## Implement the stack class with the required operations.\n",
    "\n",
    "class Stack:\n",
    "    def __init__(self):\n",
    "        self.head: Node = None\n",
    "        self.size = 0\n",
    "\n",
    "    def getSize(self):\n",
    "        return self.size\n",
    "\n",
    "    def Max(self):\n",
    "        return self.head.getLocalMax(self.head)\n",
    "    \n",
    "    def Pop(self):\n",
    "        if self.size == 0:\n",
    "            return None\n",
    "        else:\n",
    "            output = self.head\n",
    "            self.head = self.head.getNext(self.head)\n",
    "            return output\n",
    "    \n",
    "    def Push(self, value: float):\n",
    "        if self.size == 0:\n",
    "            newNode = Node(value, value)\n",
    "        else:\n",
    "            originalMax = self.head.getLocalMax(self.head)\n",
    "            if value > originalMax:\n",
    "                newNode = Node(value, value)\n",
    "            else:\n",
    "                newNode = Node(value, originalMax)\n",
    "            newNode.setNext(self.head)\n",
    "        self.head = newNode\n",
    "        self.size += 1\n"
   ]
  },
  {
   "cell_type": "markdown",
   "metadata": {},
   "source": [
    "2. You are given an input string as a sequence of brackets of different types  '(', ')', '[', ']', '{', ‘}’. We need to implement an algorithm that will check if the sequence is correct, i.e. there is a closing bracket for each opening bracket. For example\n",
    "‘([{}])’ and ‘()()’ are correct, ‘[)’ and ‘[(])’ are not. The algorithm should be of O(n) complexity where n is the length of the input string."
   ]
  },
  {
   "cell_type": "markdown",
   "metadata": {},
   "source": [
    "Ideas: Go through each element of the string, if we can find a pair of brackets, remove them from string. If not matching, raise error. If continue open, indent one level below."
   ]
  },
  {
   "cell_type": "markdown",
   "metadata": {},
   "source": [
    "### Matrices"
   ]
  },
  {
   "cell_type": "code",
   "execution_count": 13,
   "metadata": {},
   "outputs": [],
   "source": [
    "# Import libraries required in the Matrices tasks\n",
    "import numpy as np\n"
   ]
  },
  {
   "cell_type": "markdown",
   "metadata": {},
   "source": [
    "1. You are given a matrix of random numbers, you need to output the matrix where odd rows are swapped with even rows in the original matrix"
   ]
  },
  {
   "cell_type": "code",
   "execution_count": null,
   "metadata": {},
   "outputs": [],
   "source": [
    "def swapOddEvenRows(array):\n",
    "    index = 0\n",
    "    while index < range(array):\n",
    "        array\n"
   ]
  },
  {
   "cell_type": "markdown",
   "metadata": {},
   "source": [
    "2. You are given a matrix of random numbers, you need to find the number of the column which has the biggest number"
   ]
  },
  {
   "cell_type": "markdown",
   "metadata": {},
   "source": [
    "3. You are given a matrix of random numbers, you need to find the number of the column which has the biggest sum of numbers"
   ]
  },
  {
   "cell_type": "markdown",
   "metadata": {},
   "source": [
    "4. You are given a matrix of random numbers, you need to find the number of the column which has the biggest median of numbers"
   ]
  },
  {
   "cell_type": "markdown",
   "metadata": {},
   "source": [
    "5. You are given a big matrix and a smaller one, write a function that returns the coordinates of a smaller matrix within a bigger one. Start with 2d and experiment with higher dimensions."
   ]
  },
  {
   "cell_type": "markdown",
   "metadata": {},
   "source": [
    "6. You are given a big matrix, a smaller one and a number representing how much to rotate the smaller matrix in multipliers of  radians in increments of 0.5 (0, 0.5, 1, ...). Write a function that returns a copy of a big matrix where the smaller matrix is rotated  accordingly."
   ]
  },
  {
   "cell_type": "markdown",
   "metadata": {},
   "source": [
    "7. You are given the size of a matrix (e.g. width and height for 2D) and the coordinate of the start and the end of the line segment. Write a function that returns the matrix which has 1 where the line pixels should be and 0 where they shouldn’t. \n",
    "Draw the matrix as a graphical output. Start with 2d and experiment with higher dimensions."
   ]
  },
  {
   "cell_type": "markdown",
   "metadata": {},
   "source": [
    "8. Same as 3, but now with antialiasing, where the numbers in the resulting matrix represent the pixel transparency."
   ]
  },
  {
   "cell_type": "markdown",
   "metadata": {},
   "source": [
    "### Bonus Tasks"
   ]
  },
  {
   "cell_type": "markdown",
   "metadata": {},
   "source": [
    "1. You are given a sequence a1,a2,..., an N, and SN. Implement a program that would find l, r:(1lrn) so that i=lrai=S: O(n)"
   ]
  },
  {
   "cell_type": "markdown",
   "metadata": {},
   "source": [
    "2. You are given a sequence a1,a2,..., an Z. Implement a program that would find l, r:(1lrn) so that i=lraiwould be the maximum possible: O(n)"
   ]
  },
  {
   "cell_type": "markdown",
   "metadata": {},
   "source": [
    "3. You are given a number nZ you need to implement a function that returns the square root of n: O(log n)"
   ]
  }
 ],
 "metadata": {
  "interpreter": {
   "hash": "aee8b7b246df8f9039afb4144a1f6fd8d2ca17a180786b69acc140d282b71a49"
  },
  "kernelspec": {
   "display_name": "Python 3.10.2 64-bit",
   "language": "python",
   "name": "python3"
  },
  "language_info": {
   "codemirror_mode": {
    "name": "ipython",
    "version": 3
   },
   "file_extension": ".py",
   "mimetype": "text/x-python",
   "name": "python",
   "nbconvert_exporter": "python",
   "pygments_lexer": "ipython3",
   "version": "3.10.2"
  },
  "orig_nbformat": 4
 },
 "nbformat": 4,
 "nbformat_minor": 2
}
