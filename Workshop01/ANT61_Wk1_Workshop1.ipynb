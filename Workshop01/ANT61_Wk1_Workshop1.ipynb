{
 "cells": [
  {
   "cell_type": "markdown",
   "metadata": {},
   "source": [
    "# ANT61 Internship - Work Shop 1 Tasks"
   ]
  },
  {
   "cell_type": "markdown",
   "metadata": {},
   "source": [
    "#### Feedbacks from code sharing:\n",
    "- Style, brackets around the operands in boolean operations\n",
    "- Return functions/vlaues should also have type def"
   ]
  },
  {
   "cell_type": "markdown",
   "metadata": {},
   "source": [
    "### Algorithms"
   ]
  },
  {
   "cell_type": "markdown",
   "metadata": {},
   "source": [
    "1. Implement a stack with operations Push, Pop, Max, where each operation takes constant time to complete: O(c)"
   ]
  },
  {
   "cell_type": "code",
   "execution_count": 23,
   "metadata": {},
   "outputs": [],
   "source": [
    "## Implement a node class for each node within the stack\n",
    "\n",
    "class Node:\n",
    "    def __init__(self, value: float, localMax: float):\n",
    "        self.value = value\n",
    "        self.localMax = localMax\n",
    "        self.next = None\n",
    "\n",
    "    def getLocalMax(self) -> float:\n",
    "        return self.localMax\n",
    "\n",
    "    def getValue(self) -> float:\n",
    "        return self.value\n",
    "    \n",
    "    def getNext(self):\n",
    "        return self.next\n",
    "    \n",
    "    def setNext(self, nextNode):\n",
    "        self.next = nextNode\n"
   ]
  },
  {
   "cell_type": "code",
   "execution_count": 24,
   "metadata": {},
   "outputs": [],
   "source": [
    "## Implement the stack class with the required operations.\n",
    "\n",
    "class Stack:\n",
    "    def __init__(self):\n",
    "        self.head: Node = None\n",
    "        self.size = 0\n",
    "\n",
    "    def getSize(self):\n",
    "        return self.size\n",
    "\n",
    "    def Max(self):\n",
    "        if self.head != None:\n",
    "            return self.head.getLocalMax()\n",
    "        return None\n",
    "    \n",
    "    def Pop(self):\n",
    "        if self.size == 0:\n",
    "            return None\n",
    "        else:\n",
    "            output = self.head\n",
    "            self.head = self.head.getNext()\n",
    "            return output\n",
    "    \n",
    "    def Push(self, value: float):\n",
    "        if self.size == 0:\n",
    "            newNode = Node(value, value)\n",
    "        else:\n",
    "            originalMax = self.head.getLocalMax()\n",
    "            if value > originalMax:\n",
    "                newNode = Node(value, value)\n",
    "            else:\n",
    "                newNode = Node(value, originalMax)\n",
    "            newNode.setNext(self.head)\n",
    "        self.head = newNode\n",
    "        self.size += 1\n"
   ]
  },
  {
   "cell_type": "code",
   "execution_count": 25,
   "metadata": {},
   "outputs": [
    {
     "name": "stdout",
     "output_type": "stream",
     "text": [
      "2\n",
      "6\n",
      "2\n",
      "None\n"
     ]
    }
   ],
   "source": [
    "# The following code is a general testing code for the first task\n",
    "stack = Stack()\n",
    "stack.Push(2)\n",
    "stack.Push(1)\n",
    "print(stack.Max())\n",
    "stack.Push(6)\n",
    "print(stack.Max())\n",
    "stack.Pop()\n",
    "print(stack.Max())\n",
    "stack.Pop()\n",
    "stack.Pop()\n",
    "print(stack.Max())"
   ]
  },
  {
   "cell_type": "markdown",
   "metadata": {},
   "source": [
    "2. You are given an input string as a sequence of brackets of different types  '(', ')', '[', ']', '{', ‘}’. We need to implement an algorithm that will check if the sequence is correct, i.e. there is a closing bracket for each opening bracket. For example\n",
    "‘([{}])’ and ‘()()’ are correct, ‘[)’ and ‘[(])’ are not. The algorithm should be of O(n) complexity where n is the length of the input string."
   ]
  },
  {
   "cell_type": "markdown",
   "metadata": {},
   "source": [
    "Ideas: Go through each element of the expression, if the next symbol is a pair corresponding to the element, continue, stop and return false otherwise. Use a stack (LIFO) to store each of the opening brackets in the expression. Remove each successful pairs and return False if remaining opening brackets exist after iterating through the expression. (i.e., edge case of more opening brackets than the closing brackets.)"
   ]
  },
  {
   "cell_type": "code",
   "execution_count": 26,
   "metadata": {},
   "outputs": [],
   "source": [
    "# Assumption: When the expression is None (i.e., no brackets exists), the expression should evaluted as True (i.e., balanced).\n",
    "\n",
    "def checkBracketsBalanced(expression):\n",
    "    bracketStack = []\n",
    "    \n",
    "    for bracket in expression:\n",
    "        if bracket in [\"(\", \"[\", \"{\"]:\n",
    "            bracketStack.append(bracket)\n",
    "        \n",
    "        else:\n",
    "            if len(bracketStack) == 0:\n",
    "                return False\n",
    "            \n",
    "            openingBracket = bracketStack.pop()\n",
    "            if  openingBracket == \"(\":\n",
    "                if bracket != \")\":\n",
    "                    return False\n",
    "            elif openingBracket == \"[\":\n",
    "                if bracket != \"]\":\n",
    "                    return False\n",
    "            elif openingBracket == \"{\":\n",
    "                if bracket != \"}\":\n",
    "                    return False\n",
    "        \n",
    "    if len(bracketStack) != 0:\n",
    "        return False\n",
    "    return True"
   ]
  },
  {
   "cell_type": "code",
   "execution_count": 27,
   "metadata": {},
   "outputs": [
    {
     "name": "stdout",
     "output_type": "stream",
     "text": [
      "True\n",
      "False\n",
      "True\n",
      "False\n",
      "False\n"
     ]
    }
   ],
   "source": [
    "## The following Code is couple simple tests to verify that checkBracketsBalanced() works accordingly\n",
    "\n",
    "def testCheckBracketsBalanced():\n",
    "    # This should return True\n",
    "    expression_1 = \"[{()}]\"\n",
    "    print(checkBracketsBalanced(expression_1))\n",
    "    \n",
    "    # This should return False\n",
    "    expression_2 = \"[)()]\"\n",
    "    print(checkBracketsBalanced(expression_2))\n",
    "\n",
    "    # This should return True\n",
    "    expression_3 = \"\"\n",
    "    print(checkBracketsBalanced(expression_3))\n",
    "\n",
    "    # This should return False\n",
    "    expression_4 = \"{[]()}{{})}\"\n",
    "    print(checkBracketsBalanced(expression_4))\n",
    "\n",
    "    # This should return False\n",
    "    expression_5 = \"[(])\"\n",
    "    print(checkBracketsBalanced(expression_5))\n",
    "\n",
    "testCheckBracketsBalanced()"
   ]
  },
  {
   "cell_type": "markdown",
   "metadata": {},
   "source": [
    "### Matrices"
   ]
  },
  {
   "cell_type": "code",
   "execution_count": 99,
   "metadata": {},
   "outputs": [],
   "source": [
    "# Import libraries required in the Matrices tasks\n",
    "import numpy as np"
   ]
  },
  {
   "cell_type": "code",
   "execution_count": 100,
   "metadata": {},
   "outputs": [
    {
     "name": "stdout",
     "output_type": "stream",
     "text": [
      "[[1 2]\n",
      " [3 4]]\n",
      "\n",
      "[[ 1 20  3]\n",
      " [40  5  6]\n",
      " [ 7  8  9]]\n",
      "\n",
      "[[ 1  2  3  4]\n",
      " [ 5  6  7  8]\n",
      " [ 9 10 11 12]\n",
      " [13 14 15 16]]\n",
      "\n",
      "[[ 1  2  3  4  5]\n",
      " [ 6  7  8  9 10]\n",
      " [11 12 13 14 15]\n",
      " [16 17 18 19 20]\n",
      " [21 22 23 24 25]]\n",
      "\n",
      "[[ 1  2  3  4  5  6]\n",
      " [ 7  8  9 10 11 12]\n",
      " [13 14 15 16 17 18]\n",
      " [19 20 21 22 23 24]\n",
      " [25 26 27 28 29 30]\n",
      " [31 32 33 34 35 36]]\n"
     ]
    }
   ],
   "source": [
    "# Create poorly named numpy arrays for usage in the following tasks\n",
    "a = np.array([[1, 2], [3, 4]])\n",
    "b = np.array([[1, 20, 3], [40, 5, 6], [7, 8, 9]])\n",
    "c = np.array([[1, 2, 3, 4], [5, 6, 7, 8], [9, 10, 11, 12], [13, 14, 15, 16]])\n",
    "d = np.array([[1, 2, 3, 4, 5], [6, 7, 8, 9, 10], [11, 12, 13, 14, 15], [16, 17, 18, 19, 20], [21, 22, 23, 24, 25]])\n",
    "e = np.array([[1, 2, 3, 4, 5, 6], [7, 8, 9, 10, 11, 12], [13, 14, 15, 16, 17, 18], [19, 20, 21, 22, 23, 24], [25, 26, 27, 28, 29, 30], [31, 32, 33, 34, 35, 36]])\n",
    "f = np.array([[6, 7], [10, 11]])\n",
    "g = np.array([[13, 14, 15], [18, 19, 20], [23, 24, 25]])\n",
    "\n",
    "# Print out these numpy arrays \n",
    "print(a)\n",
    "print()\n",
    "print(b)\n",
    "print()\n",
    "print(c)\n",
    "print()\n",
    "print(d)\n",
    "print()\n",
    "print(e)"
   ]
  },
  {
   "cell_type": "markdown",
   "metadata": {},
   "source": [
    "1. You are given a matrix of random numbers, you need to output the matrix where odd rows are swapped with even rows in the original matrix"
   ]
  },
  {
   "cell_type": "code",
   "execution_count": 102,
   "metadata": {},
   "outputs": [
    {
     "name": "stdout",
     "output_type": "stream",
     "text": [
      "[[ 6  7  8  9 10]\n",
      " [ 1  2  3  4  5]\n",
      " [16 17 18 19 20]\n",
      " [11 12 13 14 15]\n",
      " [21 22 23 24 25]]\n",
      "[[ 1  2  3  4  5]\n",
      " [ 6  7  8  9 10]\n",
      " [11 12 13 14 15]\n",
      " [16 17 18 19 20]\n",
      " [21 22 23 24 25]]\n",
      "[[ 7  8  9 10 11 12]\n",
      " [ 1  2  3  4  5  6]\n",
      " [19 20 21 22 23 24]\n",
      " [13 14 15 16 17 18]\n",
      " [31 32 33 34 35 36]\n",
      " [25 26 27 28 29 30]]\n",
      "[[ 1  2  3  4  5  6]\n",
      " [ 7  8  9 10 11 12]\n",
      " [13 14 15 16 17 18]\n",
      " [19 20 21 22 23 24]\n",
      " [25 26 27 28 29 30]\n",
      " [31 32 33 34 35 36]]\n"
     ]
    }
   ],
   "source": [
    "def swapOddEvenRows(array):\n",
    "    index = 0\n",
    "    while index  < len(array) - 1:\n",
    "        array[[index, index + 1]] = array[[index + 1, index]]\n",
    "        index += 2\n",
    "\n",
    "    return array\n",
    "\n",
    "print(swapOddEvenRows(d))\n",
    "print(swapOddEvenRows(d))\n",
    "\n",
    "print(swapOddEvenRows(e))\n",
    "print(swapOddEvenRows(e))\n",
    "\n"
   ]
  },
  {
   "cell_type": "markdown",
   "metadata": {},
   "source": [
    "2. You are given a matrix of random numbers, you need to find the number of the column which has the biggest number"
   ]
  },
  {
   "cell_type": "code",
   "execution_count": 103,
   "metadata": {},
   "outputs": [
    {
     "name": "stdout",
     "output_type": "stream",
     "text": [
      "[1]\n",
      "[0]\n"
     ]
    }
   ],
   "source": [
    "def getColWithMax(array):\n",
    "    return np.where(array == np.amax(array))[1]\n",
    "\n",
    "# The value for this test should return \"[1]\" (The first column of an array is column 0)\n",
    "print(getColWithMax(a))\n",
    "# The value for this test should return \"[0]\" (The first column of an array is column 0)\n",
    "print(getColWithMax(b))"
   ]
  },
  {
   "cell_type": "markdown",
   "metadata": {},
   "source": [
    "3. You are given a matrix of random numbers, you need to find the number of the column which has the biggest sum of numbers"
   ]
  },
  {
   "cell_type": "code",
   "execution_count": 104,
   "metadata": {},
   "outputs": [
    {
     "name": "stdout",
     "output_type": "stream",
     "text": [
      "[0]\n",
      "[5]\n"
     ]
    }
   ],
   "source": [
    "def getColWithMaxSum(array):\n",
    "    columnSum = array.sum(axis=0)\n",
    "    return np.where(columnSum == np.amax(columnSum))[0]\n",
    "\n",
    "# The value for this test should return \"[0]\"\n",
    "print(getColWithMaxSum(b))\n",
    "# The value for this test should return \"[5]\"\n",
    "print(getColWithMaxSum(e))"
   ]
  },
  {
   "cell_type": "markdown",
   "metadata": {},
   "source": [
    "4. You are given a matrix of random numbers, you need to find the number of the column which has the biggest median of numbers"
   ]
  },
  {
   "cell_type": "code",
   "execution_count": 105,
   "metadata": {},
   "outputs": [
    {
     "name": "stdout",
     "output_type": "stream",
     "text": [
      "[1]\n",
      "[5]\n"
     ]
    }
   ],
   "source": [
    "def getColWithMaxMedian(array):\n",
    "    columnMedian = np.median(array, axis=0)\n",
    "    return np.where(columnMedian == np.amax(columnMedian))[0]\n",
    "\n",
    "# The value for this test should return \"[1]\"\n",
    "print(getColWithMaxMedian(b))\n",
    "# The value for this test should return \"[5]\"\n",
    "print(getColWithMaxMedian(e))"
   ]
  },
  {
   "cell_type": "markdown",
   "metadata": {},
   "source": [
    "5. You are given a big matrix and a smaller one, write a function that returns the coordinates of a smaller matrix within a bigger one. Start with 2d and experiment with higher dimensions."
   ]
  },
  {
   "cell_type": "code",
   "execution_count": 118,
   "metadata": {},
   "outputs": [],
   "source": [
    "def findSmallMatrix2D(smallMatrix, bigMatrix) -> list[int]:\n",
    "    pos_y_big: int = 0\n",
    "    while (pos_y_big < len(bigMatrix)):\n",
    "        pos_x_big: int = 0\n",
    "        while (pos_x_big < len(bigMatrix[0])):\n",
    "            if (bigMatrix[pos_y_big][pos_x_big] == smallMatrix[0][0]):\n",
    "                equal_flag = 0\n",
    "                pos_y_small = 0\n",
    "                while (pos_y_small < len(smallMatrix)) and (equal_flag == 0):\n",
    "                    pos_x_small = 0\n",
    "                    while (pos_x_small < len(smallMatrix[0])) and (equal_flag == 0):\n",
    "                        if (smallMatrix[pos_y_small][pos_x_small] != bigMatrix[pos_y_small+pos_y_big][pos_x_small+pos_x_big]):\n",
    "                            equal_flag = 1\n",
    "                        pos_x_small = pos_x_small + 1\n",
    "                    pos_y_small = pos_y_small + 1\n",
    "                if equal_flag == 0:\n",
    "                    return [pos_x_big, pos_y_big]\n",
    "            pos_x_big = pos_x_big + 1\n",
    "        pos_y_big = pos_y_big + 1\n",
    "    return None"
   ]
  },
  {
   "cell_type": "code",
   "execution_count": 121,
   "metadata": {},
   "outputs": [
    {
     "name": "stdout",
     "output_type": "stream",
     "text": [
      "[1, 1]\n",
      "[2, 2]\n",
      "None\n"
     ]
    }
   ],
   "source": [
    "def test_findSmallMatrix2D():\n",
    "    # This test should return [1, 1]\n",
    "    print(findSmallMatrix2D(f, c))\n",
    "    # This test should return [2, 2]\n",
    "    print(findSmallMatrix2D(g, d))\n",
    "    # This test should return None\n",
    "    print(findSmallMatrix2D(a, d))\n",
    "\n",
    "test_findSmallMatrix2D()"
   ]
  },
  {
   "cell_type": "markdown",
   "metadata": {},
   "source": [
    "6. You are given a big matrix, a smaller one and a number representing how much to rotate the smaller matrix in multipliers of  radians in increments of 0.5 (0, 0.5, 1, ...). Write a function that returns a copy of a big matrix where the smaller matrix is rotated  accordingly."
   ]
  },
  {
   "cell_type": "code",
   "execution_count": 122,
   "metadata": {},
   "outputs": [],
   "source": [
    "def rotateMatrix90AntiClockwise(matrix):\n",
    "    N = len(matrix[0])\n",
    "    for x in range(0, int(N / 2)):\n",
    "        for y in range(x, N - x - 1):\n",
    "            temp = matrix[x][y]\n",
    "            matrix[x][y] = matrix[y][N - x - 1]\n",
    "            matrix[y][N - x - 1] = matrix[N - x - 1][N - y - 1]\n",
    "            matrix[N - x - 1][N - y - 1] = matrix[N - y - 1][x]\n",
    "            matrix[N - y - 1][x] = temp\n",
    "\n",
    "    return matrix"
   ]
  },
  {
   "cell_type": "code",
   "execution_count": 123,
   "metadata": {},
   "outputs": [],
   "source": [
    "def rotateMatrix90Clockwise(matrix):\n",
    "    N = len(matrix[0])\n",
    "    for x in range(0, int(N / 2)):\n",
    "        for y in range(x, N - x - 1):\n",
    "            temp = matrix[x][y]\n",
    "            matrix[x][y] = matrix[N - y - 1][x]\n",
    "            matrix[N - y - 1][x] = matrix[N - x - 1][N - y - 1]\n",
    "            matrix[N - x - 1][N - y - 1] = matrix[y][N - x - 1]\n",
    "            matrix[y][N - x - 1] = temp\n",
    "    \n",
    "    return matrix"
   ]
  },
  {
   "cell_type": "code",
   "execution_count": 124,
   "metadata": {},
   "outputs": [],
   "source": [
    "def insertSmallToBigMatrix(small_matrix, big_matrix, position: list[int]):\n",
    "\n",
    "    pos_y_big = 0\n",
    "    while (pos_y_big < len(big_matrix)):\n",
    "        pos_x_big = 0\n",
    "        while (pos_x_big < len(big_matrix)):\n",
    "            if (pos_y_big == position[1]) and (pos_x_big == position[0]):\n",
    "                pos_y_small = 0\n",
    "                while (pos_y_small < len(small_matrix)):\n",
    "                    pos_x_small = 0\n",
    "                    while (pos_x_small < len(small_matrix[0])):\n",
    "                        big_matrix[pos_y_small+pos_y_big][pos_x_small+pos_x_big] = small_matrix[pos_y_small][pos_x_small]\n",
    "                        pos_x_small = pos_x_small + 1\n",
    "                    pos_y_small = pos_y_small + 1\n",
    "            pos_x_big = pos_x_big + 1\n",
    "        pos_y_big = pos_y_big + 1\n",
    "    \n",
    "    return big_matrix\n"
   ]
  },
  {
   "cell_type": "code",
   "execution_count": 133,
   "metadata": {},
   "outputs": [],
   "source": [
    "def rotateMatrix(big_matrix, small_matrix, rotation: float):\n",
    "    # Get the location of the small matrix\n",
    "    position = findSmallMatrix2D(small_matrix, big_matrix)\n",
    "    if position == None: \n",
    "        return None\n",
    "    \n",
    "    num_rotations = 0\n",
    "    if rotation >= 0: \n",
    "        num_rotations = rotation / 0.5\n",
    "        for i in range(0, int(num_rotations)):\n",
    "            small_matrix = rotateMatrix90Clockwise(small_matrix)\n",
    "    else: \n",
    "        num_rotations = abs(rotation) / 0.5\n",
    "        for i in range(0, int(num_rotations)):\n",
    "            small_matrix = rotateMatrix90AntiClockwise(small_matrix)\n",
    "    \n",
    "    big_matrix = insertSmallToBigMatrix(small_matrix, big_matrix, position)\n",
    "    return big_matrix\n",
    "    "
   ]
  },
  {
   "cell_type": "code",
   "execution_count": 136,
   "metadata": {},
   "outputs": [
    {
     "name": "stdout",
     "output_type": "stream",
     "text": [
      "[[ 1  2  3  4  5]\n",
      " [ 6  7  8  9 10]\n",
      " [11 12 13 14 15]\n",
      " [16 17 18 19 20]\n",
      " [21 22 23 24 25]]\n",
      "[[13 14 15]\n",
      " [18 19 20]\n",
      " [23 24 25]]\n",
      "[[23 18 13]\n",
      " [24 19 14]\n",
      " [25 20 15]]\n",
      "[[13 14 15]\n",
      " [18 19 20]\n",
      " [23 24 25]]\n",
      "[[ 1  2  3  4  5]\n",
      " [ 6  7  8  9 10]\n",
      " [11 12 23 18 13]\n",
      " [16 17 24 19 14]\n",
      " [21 22 25 20 15]]\n",
      "[[ 1  2  3  4  5]\n",
      " [ 6  7  8  9 10]\n",
      " [11 12 15 20 25]\n",
      " [16 17 14 19 24]\n",
      " [21 22 13 18 23]]\n",
      "[[ 1  2  3  4  5]\n",
      " [ 6  7  8  9 10]\n",
      " [11 12 13 14 15]\n",
      " [16 17 18 19 20]\n",
      " [21 22 23 24 25]]\n"
     ]
    }
   ],
   "source": [
    "def testMatrixRotation():\n",
    "    d_1 = np.array([[1, 2, 3, 4, 5], [6, 7, 8, 9, 10], [11, 12, 13, 14, 15], [16, 17, 18, 19, 20], [21, 22, 23, 24, 25]])\n",
    "    d_2 = np.array([[13, 14, 15], [18, 19, 20], [23, 24, 25]])\n",
    "    \n",
    "    print(d_1)\n",
    "    print(d_2)\n",
    "    \n",
    "    print(rotateMatrix90Clockwise(d_2))\n",
    "    print(rotateMatrix90AntiClockwise(d_2))\n",
    "\n",
    "    print(rotateMatrix(d_1, d_2, 0.5))\n",
    "    print(rotateMatrix(d_1, d_2, 1))\n",
    "    print(rotateMatrix(d_1, d_2, -1.5))\n",
    "\n",
    "testMatrixRotation()"
   ]
  },
  {
   "cell_type": "markdown",
   "metadata": {},
   "source": [
    "7. You are given the size of a matrix (e.g. width and height for 2D) and the coordinate of the start and the end of the line segment. Write a function that returns the matrix which has 1 where the line pixels should be and 0 where they shouldn’t. \n",
    "Draw the matrix as a graphical output. Start with 2d and experiment with higher dimensions."
   ]
  },
  {
   "cell_type": "markdown",
   "metadata": {},
   "source": [
    "8. Same as 3, but now with antialiasing, where the numbers in the resulting matrix represent the pixel transparency."
   ]
  },
  {
   "cell_type": "code",
   "execution_count": null,
   "metadata": {},
   "outputs": [],
   "source": []
  },
  {
   "cell_type": "markdown",
   "metadata": {},
   "source": [
    "### Bonus Tasks"
   ]
  },
  {
   "cell_type": "markdown",
   "metadata": {},
   "source": [
    "1. You are given a sequence $a_1,a_2,...,a_n \\in N$, and $S \\in N$. Implement a program that would find $l, r$:($1lrn)$ so that i=lrai=S: O(n)"
   ]
  },
  {
   "cell_type": "code",
   "execution_count": 90,
   "metadata": {},
   "outputs": [],
   "source": [
    "def findSum(sequence: list[float], sum: float) -> list: \n",
    "    l = 0\n",
    "    r = 0\n",
    "    current_sum: float = 0\n",
    "\n",
    "    while l < len(sequence):\n",
    "        if current_sum == sum and l != 0 and r != l:\n",
    "            return [r, l - 1]\n",
    "        elif current_sum < sum:\n",
    "            current_sum += sequence[l]\n",
    "            l = l + 1\n",
    "        else:\n",
    "            current_sum = current_sum - sequence[r]\n",
    "            r = r + 1\n",
    "            \n",
    "    return None"
   ]
  },
  {
   "cell_type": "code",
   "execution_count": 92,
   "metadata": {},
   "outputs": [
    {
     "name": "stdout",
     "output_type": "stream",
     "text": [
      "[1, 2]\n",
      "None\n",
      "[2, 4]\n"
     ]
    }
   ],
   "source": [
    "def test_findSum():\n",
    "    list_1 = [1, 2, 3, 4, 5, 6, 7, 8, 9]\n",
    "    \n",
    "    # The test should return in the following format [l, r]\n",
    "\n",
    "    # This test should return [1, 2]\n",
    "    print(findSum(list_1, 5))\n",
    "    # This test should return None\n",
    "    print(findSum(list_1, 0))\n",
    "    # This test should return [2, 4]\n",
    "    print(findSum(list_1, 12))\n",
    "\n",
    "test_findSum()"
   ]
  },
  {
   "cell_type": "markdown",
   "metadata": {},
   "source": [
    "2. You are given a sequence a1,a2,..., an Z. Implement a program that would find l, r:(1lrn) so that i=lraiwould be the maximum possible: O(n)"
   ]
  },
  {
   "cell_type": "markdown",
   "metadata": {},
   "source": [
    "3. You are given a number nZ you need to implement a function that returns the square root of n: O(log n)"
   ]
  }
 ],
 "metadata": {
  "interpreter": {
   "hash": "aee8b7b246df8f9039afb4144a1f6fd8d2ca17a180786b69acc140d282b71a49"
  },
  "kernelspec": {
   "display_name": "Python 3.10.2 64-bit",
   "language": "python",
   "name": "python3"
  },
  "language_info": {
   "codemirror_mode": {
    "name": "ipython",
    "version": 3
   },
   "file_extension": ".py",
   "mimetype": "text/x-python",
   "name": "python",
   "nbconvert_exporter": "python",
   "pygments_lexer": "ipython3",
   "version": "3.10.2"
  },
  "orig_nbformat": 4
 },
 "nbformat": 4,
 "nbformat_minor": 2
}
