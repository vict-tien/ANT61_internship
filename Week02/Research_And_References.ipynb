{
 "cells": [
  {
   "cell_type": "markdown",
   "metadata": {},
   "source": [
    "# ANT61 Internship - Week02 Research and References"
   ]
  },
  {
   "cell_type": "markdown",
   "metadata": {},
   "source": [
    "- [Frozen Lake Source Code](https://github.com/openai/gym/blob/master/gym/envs/toy_text/frozen_lake.py)\n",
    "- [Frozen Lake Documentation - Frozen Lake Official Site](https://gym.openai.com/envs/FrozenLake-v0/)"
   ]
  }
 ],
 "metadata": {
  "language_info": {
   "name": "python"
  },
  "orig_nbformat": 4
 },
 "nbformat": 4,
 "nbformat_minor": 2
}
